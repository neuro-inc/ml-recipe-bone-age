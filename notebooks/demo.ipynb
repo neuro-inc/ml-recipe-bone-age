{
 "cells": [
  {
   "cell_type": "code",
   "execution_count": null,
   "metadata": {},
   "outputs": [],
   "source": [
    "## Uncomment command below to kill current job:\n",
    "#!neuro kill $(hostname)"
   ]
  },
  {
   "cell_type": "code",
   "execution_count": null,
   "metadata": {},
   "outputs": [],
   "source": [
    "# reload modules automatically:\n",
    "%load_ext autoreload\n",
    "%autoreload 2\n",
    "\n",
    "# make user code available:\n",
    "import sys\n",
    "from pathlib import Path\n",
    "module_path = str(Path('../src').absolute())\n",
    "if module_path not in sys.path:\n",
    "    sys.path.insert(0, module_path)\n",
    "\n",
    "from dataset import split_dataset, BoneAgeDataset, normalize_target\n",
    "from transforms import get_transform\n",
    "from model import m46, convert_checkpoint\n",
    "from train import get_parser, main\n",
    "from const import DATA_PATH, MODELS_DIR, ROOT_PATH\n",
    "\n",
    "import torch\n",
    "from torch.utils.data import DataLoader\n",
    "from catalyst.dl.runner import SupervisedRunner\n",
    "\n",
    "import pandas as pd\n",
    "import numpy as np\n",
    "import matplotlib.pyplot as plt\n",
    "from itertools import islice\n",
    "from IPython.core.display import Image, display"
   ]
  },
  {
   "cell_type": "markdown",
   "metadata": {},
   "source": [
    "## Download the dataset"
   ]
  },
  {
   "cell_type": "markdown",
   "metadata": {},
   "source": [
    "For demo purposes, we use a tiny version of the dataset with only 500 out of 12k train images and 20 out of 200 test images.\n",
    "\n",
    "You can find the full dataset at http://data.neu.ro/bone-age-full.zip"
   ]
  },
  {
   "cell_type": "code",
   "execution_count": null,
   "metadata": {},
   "outputs": [],
   "source": [
    "! [ ! -f /tmp/bone-age.zip ] && wget http://data.neu.ro/bone-age-tiny.zip -O /tmp/bone-age.zip"
   ]
  },
  {
   "cell_type": "code",
   "execution_count": null,
   "metadata": {},
   "outputs": [],
   "source": [
    "! unzip -o /tmp/bone-age.zip -d /tmp/bone-age"
   ]
  },
  {
   "cell_type": "code",
   "execution_count": null,
   "metadata": {},
   "outputs": [],
   "source": [
    "DATA_PATH = Path('/tmp/bone-age/data')\n",
    "MODELS_DIR = Path('/tmp/bone-age/models')\n",
    "\n",
    "list(DATA_PATH.iterdir()), list(MODELS_DIR.iterdir())"
   ]
  },
  {
   "cell_type": "code",
   "execution_count": null,
   "metadata": {},
   "outputs": [],
   "source": [
    "bone_age_frame = pd.read_csv(DATA_PATH / 'train.csv') # ground truth\n",
    "image_root = DATA_PATH / 'train' # radiographs root"
   ]
  },
  {
   "cell_type": "code",
   "execution_count": null,
   "metadata": {},
   "outputs": [],
   "source": [
    "bone_age_frame"
   ]
  },
  {
   "cell_type": "markdown",
   "metadata": {},
   "source": [
    "### Analyze gender distribution"
   ]
  },
  {
   "cell_type": "code",
   "execution_count": null,
   "metadata": {},
   "outputs": [],
   "source": [
    "bone_age_frame['boneage_years'] = bone_age_frame['boneage'] / 12\n",
    "fig = plt.figure(figsize=(18, 8))\n",
    "for i, gender in enumerate(['male', 'female'], 1):\n",
    "    ax = plt.subplot(1, 2, i)\n",
    "    bone_age_frame.loc[bone_age_frame['male'] == (gender == 'male')].hist('boneage_years', ax=ax)\n",
    "    ax.set_title(f'{gender} cohort', fontsize=22)\n",
    "    ax.tick_params(axis='x', labelsize=16)\n",
    "    ax.tick_params(axis='y', labelsize=16)\n",
    "plt.tight_layout()\n",
    "ax = fig.add_subplot(111, frameon=False)\n",
    "ax.set_title('Bone age distribution', pad=30, fontsize=24)\n",
    "ax.set_xlabel('years', fontsize=20)\n",
    "plt.tick_params(labelcolor='none', top='off', bottom='off', left='off', right='off')"
   ]
  },
  {
   "cell_type": "markdown",
   "metadata": {},
   "source": [
    "### Plot some radiographs"
   ]
  },
  {
   "cell_type": "code",
   "execution_count": null,
   "metadata": {},
   "outputs": [],
   "source": [
    "def plot_radiographs(dataset, nimages, predictions=None):\n",
    "    ncols = 4\n",
    "    nrows = int(np.ceil(nimages / ncols))\n",
    "    fig = plt.figure()\n",
    "    for i, sample in enumerate(islice(dataset, nimages), 1):\n",
    "        image, label, img_id = sample['image'], sample['label'], sample['id']\n",
    "        if torch.is_tensor(image):\n",
    "            image = np.squeeze(image.numpy())\n",
    "            label = normalize_target(label.item(), reverse_norm=True)\n",
    "\n",
    "        ax = plt.subplot(nrows, ncols, i)\n",
    "        if predictions is not None:\n",
    "            ax.set_title(f'id {img_id}, true {label:n}, pred {int(predictions[i - 1]):n}', fontsize=24)\n",
    "        else:\n",
    "            ax.set_title(f'id {img_id}, {label:n} months', fontsize=24)\n",
    "        ax.axis('off')\n",
    "        ax.imshow(image, cmap='Greys_r')\n",
    "\n",
    "    figsize = 6\n",
    "    aspect_ratio = image.shape[0] / image.shape[1]\n",
    "    fig.set_figheight(aspect_ratio * nrows * figsize)\n",
    "    fig.set_figwidth(ncols * figsize)\n",
    "    plt.tight_layout()\n",
    "    \n",
    "    ax = fig.add_subplot(111, frameon=False)\n",
    "    crop_sz = 'x'.join(map(str, image.shape))\n",
    "    ax.set_title(f'Crop size {crop_sz}', pad=40, fontsize=28)\n",
    "    plt.tick_params(labelcolor='none', top='off', bottom='off', left='off', right='off')\n",
    "    plt.pause(0.001)\n",
    "    plt.show()"
   ]
  },
  {
   "cell_type": "code",
   "execution_count": null,
   "metadata": {},
   "outputs": [],
   "source": [
    "# the preprocessed data is scaled to 2080x1600 (HxW)\n",
    "boneage_dataset = BoneAgeDataset(bone_age_frame=bone_age_frame, root=image_root, transform=None)\n",
    "\n",
    "nimages = 8\n",
    "plot_radiographs(boneage_dataset, nimages)"
   ]
  },
  {
   "cell_type": "markdown",
   "metadata": {},
   "source": [
    "### Familiarize yourself with dataset augmentation"
   ]
  },
  {
   "cell_type": "code",
   "execution_count": null,
   "metadata": {},
   "outputs": [],
   "source": [
    "display(Image('1396_crop_area.png', width=400, unconfined=True))"
   ]
  },
  {
   "cell_type": "code",
   "execution_count": null,
   "metadata": {},
   "outputs": [],
   "source": [
    "# With `get_transform` function we extract cropped, rescaled and augmented regions of interest\n",
    "# This allows us to experiment with different areas of a radiograph. See the paper referenced in README\n",
    "# We also normalize labels by demeaning and rescaling to (120, 120), see `normalize_target` function\n",
    "\n",
    "# Let's crop just wrist area\n",
    "crop_center = 1600, 800\n",
    "crop_size = 500, 1000\n",
    "scale = 0.25\n",
    "crop_dict = {'crop_center': crop_center, 'crop_size': crop_size}\n",
    "train_transform = get_transform(augmentation=True, crop_dict=crop_dict, scale=scale)\n",
    "\n",
    "boneage_dataset = BoneAgeDataset(bone_age_frame=bone_age_frame, root=image_root,\n",
    "                                 transform=train_transform, target_transform=normalize_target)\n",
    "nimages = 12\n",
    "plot_radiographs(boneage_dataset, nimages)"
   ]
  },
  {
   "cell_type": "markdown",
   "metadata": {},
   "source": [
    "## Evaluate Bone Age model on test data"
   ]
  },
  {
   "cell_type": "code",
   "execution_count": null,
   "metadata": {},
   "outputs": [],
   "source": [
    "crop_center = 1040, 800\n",
    "h, w = 2000, 1500\n",
    "scale = 0.25\n",
    "input_shape = (1, int(h * scale), int(w * scale))\n",
    "crop_dict = {'crop_center': crop_center, 'crop_size': (h, w)}\n",
    "\n",
    "# Test dataset\n",
    "test_frame = pd.read_csv(DATA_PATH / 'test.csv') # ground truth\n",
    "test_root =  DATA_PATH / 'test'\n",
    "\n",
    "test_transform = get_transform(augmentation=False, crop_dict=crop_dict, scale=scale)\n",
    "test_dataset = BoneAgeDataset(bone_age_frame=test_frame, root=test_root, transform=test_transform,\n",
    "                              target_transform=normalize_target,\n",
    "                              model_type='age')\n",
    "data_loader = DataLoader(test_dataset, batch_size=8, shuffle=False, num_workers=0)"
   ]
  },
  {
   "cell_type": "code",
   "execution_count": null,
   "metadata": {},
   "outputs": [],
   "source": [
    "# Load pretrained model\n",
    "prev_ckpt = MODELS_DIR / 'bone_age.epoch36-err0.059.pth'\n",
    "checkpoint = convert_checkpoint(prev_ckpt, {'input_shape': input_shape, 'model_type': 'age'})\n",
    "model = m46.from_ckpt(checkpoint)"
   ]
  },
  {
   "cell_type": "markdown",
   "metadata": {},
   "source": []
  },
  {
   "cell_type": "code",
   "execution_count": null,
   "metadata": {},
   "outputs": [],
   "source": [
    "device = torch.device('cuda:0' if torch.cuda.is_available() else 'cpu')\n",
    "print(device)\n",
    "\n",
    "runner = SupervisedRunner(\n",
    "    input_key='image', output_key='preds',\n",
    "    input_target_key='label', device=device\n",
    ")\n",
    "predictions = runner.predict_loader(\n",
    "    model, data_loader,\n",
    "    verbose=True\n",
    ")"
   ]
  },
  {
   "cell_type": "code",
   "execution_count": null,
   "metadata": {},
   "outputs": [],
   "source": [
    "# Plot some predictions\n",
    "predicted_labels = 120 * (1 + predictions.flatten())\n",
    "true_labels = test_frame['boneage'].array\n",
    "mae = np.abs(true_labels - predicted_labels).mean()\n",
    "print(f'Mean absolute error {mae:0.2f} months.', )\n",
    "\n",
    "nimages = 12\n",
    "plot_radiographs(test_dataset, nimages, predictions=predicted_labels)"
   ]
  },
  {
   "cell_type": "code",
   "execution_count": null,
   "metadata": {},
   "outputs": [],
   "source": [
    "test_frame['boneage'].array"
   ]
  },
  {
   "cell_type": "markdown",
   "metadata": {},
   "source": [
    "## Evaluate gender model"
   ]
  },
  {
   "cell_type": "code",
   "execution_count": null,
   "metadata": {},
   "outputs": [],
   "source": [
    "crop_center = 1040, 800\n",
    "h, w = 2000, 1500\n",
    "scale = 0.25\n",
    "input_shape = (1, int(h * scale), int(w * scale))\n",
    "crop_dict = {'crop_center': crop_center, 'crop_size': (h, w)}\n",
    "\n",
    "# Test dataset\n",
    "test_frame = pd.read_csv(DATA_PATH / 'test.csv') # ground truth\n",
    "test_root =  DATA_PATH / 'test'\n",
    "\n",
    "test_transform = get_transform(augmentation=False, crop_dict=crop_dict, scale=scale)\n",
    "test_dataset = BoneAgeDataset(bone_age_frame=test_frame, root=test_root, transform=test_transform,\n",
    "                              target_transform=None, # do not normalize target\n",
    "                              model_type='gender')\n",
    "data_loader = DataLoader(test_dataset, batch_size=8, shuffle=False, num_workers=0)"
   ]
  },
  {
   "cell_type": "code",
   "execution_count": null,
   "metadata": {},
   "outputs": [],
   "source": [
    "# Load pretrained model\n",
    "prev_ckpt = MODELS_DIR / 'bone_gender.epoch49-err0.114.pth'\n",
    "checkpoint = convert_checkpoint(prev_ckpt, {'input_shape': input_shape, 'model_type': 'gender'})\n",
    "model = m46.from_ckpt(checkpoint)"
   ]
  },
  {
   "cell_type": "code",
   "execution_count": null,
   "metadata": {},
   "outputs": [],
   "source": [
    "device = torch.device('cuda:0' if torch.cuda.is_available() else 'cpu')\n",
    "print(device)\n",
    "\n",
    "output_key = 'probs'\n",
    "runner = SupervisedRunner(\n",
    "    input_key='image', output_key=output_key,\n",
    "    input_target_key='label', device=device\n",
    ")\n",
    "predictions = runner.predict_loader(\n",
    "    model, data_loader,\n",
    "    verbose=True\n",
    ")"
   ]
  },
  {
   "cell_type": "code",
   "execution_count": null,
   "metadata": {},
   "outputs": [],
   "source": [
    "predicted_labels = predictions.flatten().round()\n",
    "true_labels = test_frame['male'].array * 1\n",
    "accuracy = (true_labels == predicted_labels).mean()\n",
    "print(f'Mean accuracy {accuracy:0.2f}.')"
   ]
  }
 ],
 "metadata": {
  "kernelspec": {
   "display_name": "Python 3",
   "language": "python",
   "name": "python3"
  },
  "language_info": {
   "codemirror_mode": {
    "name": "ipython",
    "version": 3
   },
   "file_extension": ".py",
   "mimetype": "text/x-python",
   "name": "python",
   "nbconvert_exporter": "python",
   "pygments_lexer": "ipython3",
   "version": "3.6.9"
  },
  "pycharm": {
   "stem_cell": {
    "cell_type": "raw",
    "metadata": {
     "collapsed": false
    },
    "source": []
   }
  }
 },
 "nbformat": 4,
 "nbformat_minor": 2
}
